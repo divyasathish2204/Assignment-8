{
 "cells": [
  {
   "cell_type": "code",
   "execution_count": null,
   "id": "80c4538e",
   "metadata": {},
   "outputs": [],
   "source": [
    "#question 1\n",
    "# User defined functions\n",
    "\"\"\"All the functions that are written by any us comes under the category of user defined functions. Below are the steps for writing user defined functions in Python.\n",
    " In Python, def keyword is used to declare user defined functions. \n",
    " An indented block of statements follows the function name and arguments which contains the body of the function.\"\"\"\n",
    "#Syntax: \n",
    "def function_name():\n",
    "    statements\n",
    "    .\n",
    "    .\n",
    "function_name()  #calling function\n",
    "#builtin functions\n",
    "# Python provides a lot of built-in functions that ease the writing of code.\n",
    "#They are alredy written by programmers which we can call or use at anytime.\n",
    "#for example:\n",
    "1.abs()\n",
    "2.any() \n",
    "3.all()\n",
    "4.next()\n",
    "5.print()\n",
    "6.bool()\n",
    "7.append()\n",
    "8.count()\n",
    "9.ascii()\n",
    "10.hash().........etc"
   ]
  },
  {
   "cell_type": "code",
   "execution_count": 4,
   "id": "33af6669",
   "metadata": {},
   "outputs": [
    {
     "name": "stdout",
     "output_type": "stream",
     "text": [
      "divya Sathish\n",
      "ramya Sathish\n",
      "radha Sathish\n"
     ]
    }
   ],
   "source": [
    "#question 2\n",
    "#passing arguments to the function\n",
    "\"\"\"Arguments\n",
    "-Information can be passed into functions as arguments.\n",
    "-Arguments are specified after the function name, inside the parentheses.You can add as many arguments as you want,\n",
    "just separate them with a comma.\n",
    "#A parameter is the variable listed inside the parentheses in the function definition.\n",
    "#An argument is the value that is sent to the function when it is called.\n",
    "#The following example has a function with one argument(fname)\n",
    "When the function is called, we pass along a first name, which is used inside the function to print the full name:\"\"\"\n",
    "def my_function(fname):\n",
    "  print(fname + \" Sathish\")\n",
    "my_function(\"divya\")\n",
    "my_function(\"ramya\")\n",
    "my_function(\"radha\")"
   ]
  },
  {
   "cell_type": "code",
   "execution_count": 5,
   "id": "43c5a8fc",
   "metadata": {},
   "outputs": [
    {
     "name": "stdout",
     "output_type": "stream",
     "text": [
      "my name is  divya\n",
      "my age is  32\n",
      "my name is  divya\n",
      "my age is  32\n"
     ]
    }
   ],
   "source": [
    "#keyword arKeyword-Only Arguments\n",
    "\"\"\"Keyword-only arguments mean whenever we pass the arguments(or value) by their parameter names at the time of calling the function \n",
    "in Python in which if you change the position of arguments then there will be no change in the output.\"\"\"\n",
    "#for example:\n",
    "def name_func(name,age):\n",
    "    print(\"my name is \",name)\n",
    "    print(\"my age is \",age)\n",
    "name_func(name = 'divya',age = 32)\n",
    "name_func(age = 32,name = 'divya')\n",
    " # here ouput is same eventhough we have changed the  position of the argument."
   ]
  },
  {
   "cell_type": "code",
   "execution_count": 6,
   "id": "a920db5c",
   "metadata": {},
   "outputs": [
    {
     "name": "stdout",
     "output_type": "stream",
     "text": [
      "my name is  divya\n",
      "my age is  32\n",
      "my name is  32\n",
      "my age is  divya\n"
     ]
    }
   ],
   "source": [
    "#positional-only arguments\n",
    "\"\"\"Position-only arguments mean whenever we pass the arguments in the order we have defined function parameters \n",
    "in which if you change the argument position then you may get the unexpected output.\n",
    "We should use positional Arguments whenever we know the order of argument to be passed\"\"\"\n",
    "#for example:\n",
    "def name_func(name,age):\n",
    "    print(\"my name is \",name)\n",
    "    print(\"my age is \",age)\n",
    "name_func(\"divya\",32)\n",
    "name_func(32,\"divya\")      #it is giving unexpected output as given below"
   ]
  },
  {
   "cell_type": "code",
   "execution_count": 7,
   "id": "58cea0d6",
   "metadata": {},
   "outputs": [
    {
     "data": {
      "text/plain": [
       "5"
      ]
     },
     "execution_count": 7,
     "metadata": {},
     "output_type": "execute_result"
    }
   ],
   "source": [
    "#question 3\n",
    "#return statement in a function\n",
    "\"To let a function return a value, use the return statement.The return keyword is to exit a function and return a value.\"\n",
    "#for example:\n",
    "def sum(a,b):\n",
    "    c = a+b\n",
    "    return c\n",
    "sum(2,3)        #the function returns a value\n",
    "    "
   ]
  },
  {
   "cell_type": "code",
   "execution_count": 9,
   "id": "01a3d303",
   "metadata": {},
   "outputs": [
    {
     "data": {
      "text/plain": [
       "(12, 2, 1.4, 35)"
      ]
     },
     "execution_count": 9,
     "metadata": {},
     "output_type": "execute_result"
    }
   ],
   "source": [
    "#multiple returns\n",
    "def math_operations(a,b):\n",
    "    c = a+b\n",
    "    d = a-b\n",
    "    e = a/b\n",
    "    f = a*b\n",
    "    return c,d,e,f\n",
    "math_operations(7,5) #returns multiple statements\n",
    "    "
   ]
  },
  {
   "cell_type": "code",
   "execution_count": 11,
   "id": "3f1f0319",
   "metadata": {},
   "outputs": [
    {
     "name": "stdout",
     "output_type": "stream",
     "text": [
      "9\n"
     ]
    }
   ],
   "source": [
    "#question 4\n",
    "#lambda functions\n",
    "\"a lambda function is also a function where it have one expression and many arguments.\"\n",
    "\"it is also called anonymous function.it is small\"\n",
    "#syntax:\n",
    "lambda arguments : expression\n",
    "#for example:\n",
    "sum = lambda x,y,z : x+y+z\n",
    "print(sum(2,3,4))"
   ]
  },
  {
   "cell_type": "code",
   "execution_count": 12,
   "id": "fb201ef3",
   "metadata": {},
   "outputs": [
    {
     "data": {
      "text/plain": [
       "30"
      ]
     },
     "execution_count": 12,
     "metadata": {},
     "output_type": "execute_result"
    }
   ],
   "source": [
    "#uses of lambda function:\n",
    "\"we can use lambda function anonymously inside another function\"\n",
    "#for ex:\n",
    "def func(n):\n",
    "    return lambda a : a * n\n",
    "lambda_func = func(3)\n",
    "lambda_func(10)  # a is an unknown variable.we can use lambda in another function"
   ]
  },
  {
   "cell_type": "code",
   "execution_count": 19,
   "id": "a0379919",
   "metadata": {},
   "outputs": [
    {
     "name": "stdout",
     "output_type": "stream",
     "text": [
      "hi,welcome to programming\n"
     ]
    },
    {
     "ename": "NameError",
     "evalue": "name 's' is not defined",
     "output_type": "error",
     "traceback": [
      "\u001b[1;31m---------------------------------------------------------------------------\u001b[0m",
      "\u001b[1;31mNameError\u001b[0m                                 Traceback (most recent call last)",
      "\u001b[1;32m~\\AppData\\Local\\Temp\\ipykernel_2216\\3574856499.py\u001b[0m in \u001b[0;36m<module>\u001b[1;34m\u001b[0m\n\u001b[0;32m      8\u001b[0m     \u001b[0mprint\u001b[0m\u001b[1;33m(\u001b[0m\u001b[0ms\u001b[0m\u001b[1;33m)\u001b[0m\u001b[1;33m\u001b[0m\u001b[1;33m\u001b[0m\u001b[0m\n\u001b[0;32m      9\u001b[0m \u001b[0mwelcome\u001b[0m\u001b[1;33m(\u001b[0m\u001b[1;33m)\u001b[0m\u001b[1;33m\u001b[0m\u001b[1;33m\u001b[0m\u001b[0m\n\u001b[1;32m---> 10\u001b[1;33m \u001b[0mprint\u001b[0m\u001b[1;33m(\u001b[0m\u001b[0ms\u001b[0m\u001b[1;33m)\u001b[0m\u001b[1;33m\u001b[0m\u001b[1;33m\u001b[0m\u001b[0m\n\u001b[0m",
      "\u001b[1;31mNameError\u001b[0m: name 's' is not defined"
     ]
    }
   ],
   "source": [
    "#question 5\n",
    "\"scope: A variable is only available from inside the region it is created is called scope.\"\n",
    "#1.local scope\n",
    "#2.global scope\n",
    "#local variable cam=nnot use outside a function\n",
    "def welcome():\n",
    "    s = \"hi,welcome to programming\"\n",
    "    print(s)\n",
    "welcome()\n",
    "print(s)      # s cannot be printed outside the function.their scope is local"
   ]
  },
  {
   "cell_type": "code",
   "execution_count": 21,
   "id": "21b7735b",
   "metadata": {},
   "outputs": [
    {
     "name": "stdout",
     "output_type": "stream",
     "text": [
      "hi divya\n",
      "welcome divya\n"
     ]
    }
   ],
   "source": [
    "#global scope\n",
    "\"\"\"these variables are those which are used outside the function and which are accessible throughout the program.\n",
    "that is inside and outside of the function\"\"\"\n",
    "#for ex:\n",
    "def name():\n",
    "    print(\"hi\",s)\n",
    "s = 'divya'    # s have global scope and can be used inside and outside of a function\n",
    "name()\n",
    "print(\"welcome\",s)"
   ]
  },
  {
   "cell_type": "code",
   "execution_count": 42,
   "id": "5af583e5",
   "metadata": {},
   "outputs": [
    {
     "data": {
      "text/plain": [
       "[9, 16, 25, 36, 49]"
      ]
     },
     "execution_count": 42,
     "metadata": {},
     "output_type": "execute_result"
    }
   ],
   "source": [
    "#question 6\n",
    "#return values\n",
    "def list_func(*l):\n",
    "    l = [3,4,5,6,7]\n",
    "    l1 = []\n",
    "    for i in l:\n",
    "        l1.append(i*i)\n",
    "    return l1\n",
    "list_func()          # returns square of a multiple values"
   ]
  },
  {
   "cell_type": "code",
   "execution_count": 2,
   "id": "591ba905",
   "metadata": {},
   "outputs": [
    {
     "name": "stdout",
     "output_type": "stream",
     "text": [
      "before, outer_list = ['divya', 'radha', 'ramya']\n",
      "got ['divya', 'radha', 'ramya']\n",
      "changed to ['divya', 'radha', 'ramya', 'sudha']\n",
      "after, outer_list = ['divya', 'radha', 'ramya', 'sudha']\n"
     ]
    }
   ],
   "source": [
    "#question 7\n",
    "\"\"'python is neither pass by value nor pass by reference.it is pass by object reference\n",
    "def try_to_change_list_contents(the_list):\n",
    "    print('got', the_list)\n",
    "    the_list.append('sudha')\n",
    "    print('changed to', the_list)\n",
    "\n",
    "outer_list = ['divya', 'radha', 'ramya']    #here outer_list is the reference of the function parameter the_list.\n",
    "                                            #where it stores its values.but the reference is passed by its value.\n",
    "                                        \n",
    "print('before, outer_list =', outer_list)\n",
    "try_to_change_list_contents(outer_list)\n",
    "print('after, outer_list =', outer_list)    "
   ]
  },
  {
   "cell_type": "code",
   "execution_count": 8,
   "id": "2d101df2",
   "metadata": {},
   "outputs": [
    {
     "name": "stdout",
     "output_type": "stream",
     "text": [
      "enter a number: 5\n",
      "Log value: 1.6094379124341003\n",
      "exp value: 148.4131591025766\n",
      "power value: 32.0\n",
      "square value: 2.23606797749979\n"
     ]
    }
   ],
   "source": [
    "#question 8\n",
    "import math   \n",
    "def math_operations():\n",
    "    x = int(input(\"enter a number: \"))\n",
    "    print(\"Log value:\", math.log(x))\n",
    "    print(\"exp value:\",math.exp(x))\n",
    "    print(\"power value:\",math.pow(2,x))\n",
    "    print(\"square value:\",math.sqrt(x))\n",
    "math_operations()"
   ]
  },
  {
   "cell_type": "code",
   "execution_count": 54,
   "id": "8e6270b9",
   "metadata": {},
   "outputs": [
    {
     "name": "stdout",
     "output_type": "stream",
     "text": [
      "enter a name: Divya Sathish\n",
      "first_name:  Divya\n",
      "last name:  Sathish\n"
     ]
    }
   ],
   "source": [
    "#question 9\n",
    "def full_name(*full_name):\n",
    "    full_name  = input(\"enter a name: \")\n",
    "    first=full_name.split()[0]\n",
    "    last=full_name.split()[-1]\n",
    "    print(\"first_name: \",first)\n",
    "    print(\"last name: \",last)\n",
    "full_name()"
   ]
  },
  {
   "cell_type": "code",
   "execution_count": 55,
   "id": "b826f55b",
   "metadata": {},
   "outputs": [
    {
     "name": "stdout",
     "output_type": "stream",
     "text": [
      "enter a name: Harshitha Sathish\n",
      "first_name:  Harshitha\n",
      "last name:  Sathish\n"
     ]
    }
   ],
   "source": [
    "full_name()"
   ]
  }
 ],
 "metadata": {
  "kernelspec": {
   "display_name": "Python 3 (ipykernel)",
   "language": "python",
   "name": "python3"
  },
  "language_info": {
   "codemirror_mode": {
    "name": "ipython",
    "version": 3
   },
   "file_extension": ".py",
   "mimetype": "text/x-python",
   "name": "python",
   "nbconvert_exporter": "python",
   "pygments_lexer": "ipython3",
   "version": "3.9.13"
  }
 },
 "nbformat": 4,
 "nbformat_minor": 5
}
